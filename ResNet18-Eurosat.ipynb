{
 "cells": [
  {
   "cell_type": "markdown",
   "id": "e76c598c",
   "metadata": {
    "papermill": {
     "duration": 0.004282,
     "end_time": "2025-04-11T18:30:41.945879",
     "exception": false,
     "start_time": "2025-04-11T18:30:41.941597",
     "status": "completed"
    },
    "tags": []
   },
   "source": [
    "## Simple baseline with Sentinel-2 data — ResNet-18 + Binary Cross Entropy\n",
    "\n",
    "The occurrence of different types of organisms, whether plants or animals, is generally associated with the characteristics of the environment or ecosystem in which they live. This relationship between the presence of species and their habitat is often interdependent and can be affected by various factors, such as climate, which is another modality we provide.\n",
    "\n",
    "To demonstrate the performance while using just the _image data_, i.e., Sentinel Image Patches, we provide a straightforward baseline that is based on a slighly modified ResNet-18 and Binary Cross Entropy. \n",
    "As described above, the satellite patches provide an image-like modalities that captures habitats and other aspects of the locality.\n",
    "\n",
    "Considering the significant extent for enhancing performance of this baseline, we encourage you to experiment with various techniques, architectures, losses, etc.\n",
    "\n",
    "#### **Have Fun!**"
   ]
  },
  {
   "cell_type": "code",
   "execution_count": 1,
   "id": "55c27752",
   "metadata": {
    "ExecuteTime": {
     "end_time": "2024-04-30T21:25:07.29831Z",
     "start_time": "2024-04-30T21:25:05.354584Z"
    },
    "execution": {
     "iopub.execute_input": "2025-04-11T18:30:41.955742Z",
     "iopub.status.busy": "2025-04-11T18:30:41.955014Z",
     "iopub.status.idle": "2025-04-11T18:30:51.632223Z",
     "shell.execute_reply": "2025-04-11T18:30:51.631404Z"
    },
    "papermill": {
     "duration": 9.684855,
     "end_time": "2025-04-11T18:30:51.634701",
     "exception": false,
     "start_time": "2025-04-11T18:30:41.949846",
     "status": "completed"
    },
    "tags": []
   },
   "outputs": [
    {
     "name": "stderr",
     "output_type": "stream",
     "text": [
      "/Users/lukas/Offline/DHBW/semester2/conda/project/.venv/lib/python3.13/site-packages/tqdm/auto.py:21: TqdmWarning: IProgress not found. Please update jupyter and ipywidgets. See https://ipywidgets.readthedocs.io/en/stable/user_install.html\n",
      "  from .autonotebook import tqdm as notebook_tqdm\n",
      "/Users/lukas/Offline/DHBW/semester2/conda/project/.venv/lib/python3.13/site-packages/albumentations/__init__.py:28: UserWarning: A new version of Albumentations is available: '2.0.8' (you have '2.0.7'). Upgrade using: pip install -U albumentations. To disable automatic update checks, set the environment variable NO_ALBUMENTATIONS_UPDATE to 1.\n",
      "  check_for_updates()\n"
     ]
    }
   ],
   "source": [
    "import os\n",
    "import torch\n",
    "import tqdm\n",
    "import rasterio\n",
    "import numpy as np\n",
    "import pandas as pd\n",
    "import albumentations as A\n",
    "import torchvision.models as models\n",
    "import torchvision.transforms as transforms\n",
    "import torch.nn as nn\n",
    "from PIL import Image\n",
    "from torch.utils.data import Dataset, DataLoader\n",
    "from torch.optim.lr_scheduler import CosineAnnealingLR\n",
    "from sklearn.metrics import precision_recall_fscore_support\n",
    "\n",
    "from src.dataset.dataset import TrainDataset, TestDataset"
   ]
  },
  {
   "cell_type": "markdown",
   "id": "e91674b2",
   "metadata": {
    "execution": {
     "iopub.execute_input": "2024-05-01T13:30:07.054038Z",
     "iopub.status.busy": "2024-05-01T13:30:07.053659Z",
     "iopub.status.idle": "2024-05-01T13:30:07.058148Z",
     "shell.execute_reply": "2024-05-01T13:30:07.057269Z",
     "shell.execute_reply.started": "2024-05-01T13:30:07.054008Z"
    },
    "papermill": {
     "duration": 0.003839,
     "end_time": "2025-04-11T18:30:51.642722",
     "exception": false,
     "start_time": "2025-04-11T18:30:51.638883",
     "status": "completed"
    },
    "tags": []
   },
   "source": [
    "## Data description\n",
    "\n",
    "The Sentinel-2 data was acquired through the Sentinel2 satellite program and pre-processed by [Ecodatacube](https://stac.ecodatacube.eu/) to produce raster files scaled to the entire European continent and projected into a unique CRS. \n",
    "Each TIFF file corresponds to a unique observation location (via \"surveyId\"). To load the patches for a selected observation, take the \"surveyId\" from any occurrence CSV and load it following this rule --> '…/CD/AB/XXXXABCD.jpeg'. For example, the image location for the surveyId 3018575 is \"./75/85/3018575.tiff\". For all \"surveyId\" with less than four digits, you can use a similar rule. For a \"surveyId\" 1 is \"./1/1.tiff\".\n",
    "The data can simply be loaded using the following method:\n",
    "\n",
    "```python\n",
    "def construct_patch_path(output_path, survey_id):\n",
    "    \"\"\"Construct the patch file path based on survey_id as './CD/AB/XXXXABCD.tiff'\"\"\"\n",
    "    path = output_path\n",
    "    for d in (str(survey_id)[-2:], str(survey_id)[-4:-2]):\n",
    "        path = os.path.join(path, d)\n",
    "\n",
    "    path = os.path.join(path, f\"{survey_id}.tiff\")\n",
    "\n",
    "    return path\n",
    "```\n",
    "\n",
    "**For more information about data processing, normalization, and visualization, please refer to the following notebook**: [Kaggle Notebook](https://www.kaggle.com/code/picekl/sentinel-2-data-processing-and-normalization).\n",
    "\n",
    "**References:**\n",
    "- *Traceability (lineage): The dataset was produced entirely by mosaicking and seasonally aggregating imagery from the Sentinel-2 Level-2A product (https://sentinels.copernicus.eu/web/sentinel/user-guides/sentinel-2-msi/product-types/level-2a)*\n",
    "- *Ecodatacube.eu: Analysis-ready open environmental data cube for Europe (https://doi.org/10.21203/rs.3.rs-2277090/v3)*"
   ]
  },
  {
   "cell_type": "markdown",
   "id": "5213a77a",
   "metadata": {
    "papermill": {
     "duration": 0.00379,
     "end_time": "2025-04-11T18:30:51.650496",
     "exception": false,
     "start_time": "2025-04-11T18:30:51.646706",
     "status": "completed"
    },
    "tags": []
   },
   "source": [
    "## Prepare custom dataset loader\n",
    "\n",
    "We have to slightly update the Dataset to provide the relevant data in the appropriate format."
   ]
  },
  {
   "cell_type": "markdown",
   "id": "201a02b1",
   "metadata": {
    "papermill": {
     "duration": 0.003709,
     "end_time": "2025-04-11T18:30:51.684240",
     "exception": false,
     "start_time": "2025-04-11T18:30:51.680531",
     "status": "completed"
    },
    "tags": []
   },
   "source": [
    "### Load metadata and prepare data loaders"
   ]
  },
  {
   "cell_type": "code",
   "execution_count": null,
   "id": "5b5fc9db",
   "metadata": {
    "ExecuteTime": {
     "end_time": "2024-04-30T21:25:34.532017Z",
     "start_time": "2024-04-30T21:25:32.615562Z"
    },
    "collapsed": false,
    "execution": {
     "iopub.execute_input": "2025-04-11T18:30:51.693628Z",
     "iopub.status.busy": "2025-04-11T18:30:51.693293Z",
     "iopub.status.idle": "2025-04-11T18:30:57.431246Z",
     "shell.execute_reply": "2025-04-11T18:30:57.429814Z"
    },
    "jupyter": {
     "outputs_hidden": false
    },
    "papermill": {
     "duration": 5.745402,
     "end_time": "2025-04-11T18:30:57.433545",
     "exception": false,
     "start_time": "2025-04-11T18:30:51.688143",
     "status": "completed"
    },
    "tags": []
   },
   "outputs": [],
   "source": [
    "# Dataset and DataLoader\n",
    "batch_size = 128\n",
    "num_workers = 8\n",
    "\n",
    "transform = transforms.Compose([\n",
    "    transforms.ToTensor(),\n",
    "    transforms.Normalize(mean=(0.5, 0.5, 0.5, 0.5), std=(0.5, 0.5, 0.5, 0.5)),\n",
    "])\n",
    "\n",
    "# Load Training metadata\n",
    "train_data_path = \"data/SatellitePatches/PA-train\"\n",
    "train_metadata_path = \"data/GLC25_PA_metadata_train.csv\"\n",
    "train_metadata = pd.read_csv(train_metadata_path)\n",
    "train_dataset = TrainDataset(train_data_path, train_metadata, transform=transform)\n",
    "train_loader = DataLoader(train_dataset, batch_size=batch_size, shuffle=True, num_workers=num_workers)\n",
    "\n",
    "# Load Test metadata\n",
    "test_data_path = \"data/SatellitePatches/PA-test/\"\n",
    "test_metadata_path = \"data/GLC25_PA_metadata_test.csv\"\n",
    "test_metadata = pd.read_csv(test_metadata_path)\n",
    "test_dataset = TestDataset(test_data_path, test_metadata, transform=transform)\n",
    "test_loader = DataLoader(test_dataset, batch_size=batch_size, shuffle=False, num_workers=num_workers)"
   ]
  },
  {
   "cell_type": "markdown",
   "id": "757e8b59",
   "metadata": {
    "papermill": {
     "duration": 0.004179,
     "end_time": "2025-04-11T18:30:57.441900",
     "exception": false,
     "start_time": "2025-04-11T18:30:57.437721",
     "status": "completed"
    },
    "tags": []
   },
   "source": [
    "## Modify pretrained ResNet-18 model\n",
    "\n",
    "To fully use all the R,G,B and NIR channels, we have to modify the input layer of the standard ResNet-18.\n",
    "That is all :)"
   ]
  },
  {
   "cell_type": "code",
   "execution_count": 3,
   "id": "877d7197",
   "metadata": {
    "ExecuteTime": {
     "end_time": "2024-04-30T21:25:31.014067Z",
     "start_time": "2024-04-30T21:25:31.01006Z"
    },
    "collapsed": false,
    "execution": {
     "iopub.execute_input": "2025-04-11T18:30:57.450727Z",
     "iopub.status.busy": "2025-04-11T18:30:57.450448Z",
     "iopub.status.idle": "2025-04-11T18:30:57.528529Z",
     "shell.execute_reply": "2025-04-11T18:30:57.527509Z"
    },
    "jupyter": {
     "outputs_hidden": false
    },
    "papermill": {
     "duration": 0.084742,
     "end_time": "2025-04-11T18:30:57.530654",
     "exception": false,
     "start_time": "2025-04-11T18:30:57.445912",
     "status": "completed"
    },
    "tags": []
   },
   "outputs": [
    {
     "name": "stdout",
     "output_type": "stream",
     "text": [
      "DEVICE = MPS\n"
     ]
    }
   ],
   "source": [
    "# Check if cuda is available\n",
    "device = torch.device(\"cpu\")\n",
    "\n",
    "if torch.cuda.is_available():\n",
    "    device = torch.device(\"cuda\")\n",
    "    print(\"DEVICE = CUDA\")\n",
    "elif torch.mps.is_available():\n",
    "    device = torch.device(\"mps\")\n",
    "    print(\"DEVICE = MPS\")\n",
    "else:\n",
    "    device = torch.device(\"cpu\")\n",
    "    print(\"DEVICE = CPU\")\n",
    "\n",
    "# Hyperparameters\n",
    "learning_rate = 0.0001\n",
    "num_epochs = 25\n",
    "positive_weigh_factor = 1.0\n",
    "num_classes = 11255 # Number of all unique classes within the PO and PA data."
   ]
  },
  {
   "cell_type": "code",
   "execution_count": 4,
   "id": "85a7f756",
   "metadata": {
    "execution": {
     "iopub.execute_input": "2025-04-11T18:30:57.539829Z",
     "iopub.status.busy": "2025-04-11T18:30:57.539525Z",
     "iopub.status.idle": "2025-04-11T18:30:58.466528Z",
     "shell.execute_reply": "2025-04-11T18:30:58.465645Z"
    },
    "papermill": {
     "duration": 0.933587,
     "end_time": "2025-04-11T18:30:58.468395",
     "exception": false,
     "start_time": "2025-04-11T18:30:57.534808",
     "status": "completed"
    },
    "tags": []
   },
   "outputs": [],
   "source": [
    "from src.model.resnet18 import ResNet18\n",
    "\n",
    "\n",
    "model = ResNet18()\n",
    "model.to(device)\n",
    "\n",
    "optimizer = torch.optim.AdamW(model.parameters(), lr=learning_rate)\n",
    "scheduler = CosineAnnealingLR(optimizer, T_max=25)"
   ]
  },
  {
   "cell_type": "code",
   "execution_count": 5,
   "id": "b7946956",
   "metadata": {
    "execution": {
     "iopub.execute_input": "2025-04-11T18:30:58.478049Z",
     "iopub.status.busy": "2025-04-11T18:30:58.477780Z",
     "iopub.status.idle": "2025-04-11T18:30:58.482847Z",
     "shell.execute_reply": "2025-04-11T18:30:58.482065Z"
    },
    "papermill": {
     "duration": 0.011755,
     "end_time": "2025-04-11T18:30:58.484569",
     "exception": false,
     "start_time": "2025-04-11T18:30:58.472814",
     "status": "completed"
    },
    "tags": []
   },
   "outputs": [],
   "source": [
    "def set_seed(seed):\n",
    "    # Set seed for Python's built-in random number generator\n",
    "    torch.manual_seed(seed)\n",
    "    # Set seed for numpy\n",
    "    np.random.seed(seed)\n",
    "    # Set seed for CUDA if available\n",
    "    if torch.cuda.is_available():\n",
    "        torch.cuda.manual_seed_all(seed)\n",
    "        # Set cuDNN's random number generator seed for deterministic behavior\n",
    "        torch.backends.cudnn.deterministic = True\n",
    "        torch.backends.cudnn.benchmark = False\n",
    "\n",
    "set_seed(77)"
   ]
  },
  {
   "cell_type": "markdown",
   "id": "1dd18b4b",
   "metadata": {
    "papermill": {
     "duration": 0.003826,
     "end_time": "2025-04-11T18:30:58.492394",
     "exception": false,
     "start_time": "2025-04-11T18:30:58.488568",
     "status": "completed"
    },
    "tags": []
   },
   "source": [
    "## Training Loop\n",
    "\n",
    "Nothing special, just a standard Pytorch training loop."
   ]
  },
  {
   "cell_type": "code",
   "execution_count": null,
   "id": "146d3632",
   "metadata": {
    "ExecuteTime": {
     "start_time": "2024-04-30T21:25:34.536634Z"
    },
    "collapsed": false,
    "execution": {
     "iopub.execute_input": "2025-04-11T18:30:58.502389Z",
     "iopub.status.busy": "2025-04-11T18:30:58.501748Z",
     "iopub.status.idle": "2025-04-12T04:14:09.901308Z",
     "shell.execute_reply": "2025-04-12T04:14:09.900211Z"
    },
    "is_executing": true,
    "jupyter": {
     "outputs_hidden": false
    },
    "papermill": {
     "duration": 34991.420477,
     "end_time": "2025-04-12T04:14:09.917095",
     "exception": false,
     "start_time": "2025-04-11T18:30:58.496618",
     "status": "completed"
    },
    "tags": []
   },
   "outputs": [
    {
     "name": "stdout",
     "output_type": "stream",
     "text": [
      "Training for 25 epochs started.\n",
      "Epoch 1/25, Batch 0/696, Loss: 0.711972177028656\n",
      "Epoch 1/25, Batch 348/696, Loss: 0.014029133133590221\n",
      "Scheduler: {'T_max': 25, 'eta_min': 0.0, 'base_lrs': [0.0001], 'last_epoch': 1, '_step_count': 2, '_get_lr_called_within_step': False, '_last_lr': [9.96057350657239e-05]}\n",
      "Epoch 2/25, Batch 0/696, Loss: 0.008208966813981533\n",
      "Epoch 2/25, Batch 348/696, Loss: 0.006792403757572174\n",
      "Scheduler: {'T_max': 25, 'eta_min': 0.0, 'base_lrs': [0.0001], 'last_epoch': 2, '_step_count': 3, '_get_lr_called_within_step': False, '_last_lr': [9.842915805643155e-05]}\n",
      "Epoch 3/25, Batch 0/696, Loss: 0.006560108158737421\n",
      "Epoch 3/25, Batch 348/696, Loss: 0.006731483619660139\n",
      "Scheduler: {'T_max': 25, 'eta_min': 0.0, 'base_lrs': [0.0001], 'last_epoch': 3, '_step_count': 4, '_get_lr_called_within_step': False, '_last_lr': [9.648882429441257e-05]}\n",
      "Epoch 4/25, Batch 0/696, Loss: 0.006035337224602699\n",
      "Epoch 4/25, Batch 348/696, Loss: 0.006378504913300276\n",
      "Scheduler: {'T_max': 25, 'eta_min': 0.0, 'base_lrs': [0.0001], 'last_epoch': 4, '_step_count': 5, '_get_lr_called_within_step': False, '_last_lr': [9.381533400219318e-05]}\n",
      "Epoch 5/25, Batch 0/696, Loss: 0.005990141071379185\n",
      "Epoch 5/25, Batch 348/696, Loss: 0.006257291417568922\n",
      "Scheduler: {'T_max': 25, 'eta_min': 0.0, 'base_lrs': [0.0001], 'last_epoch': 5, '_step_count': 6, '_get_lr_called_within_step': False, '_last_lr': [9.045084971874738e-05]}\n",
      "Epoch 6/25, Batch 0/696, Loss: 0.006994702387601137\n",
      "Epoch 6/25, Batch 348/696, Loss: 0.006778643000870943\n",
      "Scheduler: {'T_max': 25, 'eta_min': 0.0, 'base_lrs': [0.0001], 'last_epoch': 6, '_step_count': 7, '_get_lr_called_within_step': False, '_last_lr': [8.644843137107059e-05]}\n",
      "Epoch 7/25, Batch 0/696, Loss: 0.005890257656574249\n",
      "Epoch 7/25, Batch 348/696, Loss: 0.006151780020445585\n",
      "Scheduler: {'T_max': 25, 'eta_min': 0.0, 'base_lrs': [0.0001], 'last_epoch': 7, '_step_count': 8, '_get_lr_called_within_step': False, '_last_lr': [8.18711994874345e-05]}\n",
      "Epoch 8/25, Batch 0/696, Loss: 0.005692794919013977\n",
      "Epoch 8/25, Batch 348/696, Loss: 0.0059964414685964584\n",
      "Scheduler: {'T_max': 25, 'eta_min': 0.0, 'base_lrs': [0.0001], 'last_epoch': 8, '_step_count': 9, '_get_lr_called_within_step': False, '_last_lr': [7.679133974894983e-05]}\n",
      "Epoch 9/25, Batch 0/696, Loss: 0.0066730245016515255\n",
      "Epoch 9/25, Batch 348/696, Loss: 0.005865413695573807\n",
      "Scheduler: {'T_max': 25, 'eta_min': 0.0, 'base_lrs': [0.0001], 'last_epoch': 9, '_step_count': 10, '_get_lr_called_within_step': False, '_last_lr': [7.128896457825363e-05]}\n",
      "Epoch 10/25, Batch 0/696, Loss: 0.005786854773759842\n",
      "Epoch 10/25, Batch 348/696, Loss: 0.006019827909767628\n",
      "Scheduler: {'T_max': 25, 'eta_min': 0.0, 'base_lrs': [0.0001], 'last_epoch': 10, '_step_count': 11, '_get_lr_called_within_step': False, '_last_lr': [6.545084971874737e-05]}\n",
      "Epoch 11/25, Batch 0/696, Loss: 0.005517967045307159\n",
      "Epoch 11/25, Batch 348/696, Loss: 0.005723024718463421\n",
      "Scheduler: {'T_max': 25, 'eta_min': 0.0, 'base_lrs': [0.0001], 'last_epoch': 11, '_step_count': 12, '_get_lr_called_within_step': False, '_last_lr': [5.936906572928624e-05]}\n",
      "Epoch 12/25, Batch 0/696, Loss: 0.005746724549680948\n",
      "Epoch 12/25, Batch 348/696, Loss: 0.005587536375969648\n",
      "Scheduler: {'T_max': 25, 'eta_min': 0.0, 'base_lrs': [0.0001], 'last_epoch': 12, '_step_count': 13, '_get_lr_called_within_step': False, '_last_lr': [5.313952597646568e-05]}\n",
      "Epoch 13/25, Batch 0/696, Loss: 0.005741665605455637\n",
      "Epoch 13/25, Batch 348/696, Loss: 0.005406365264207125\n",
      "Scheduler: {'T_max': 25, 'eta_min': 0.0, 'base_lrs': [0.0001], 'last_epoch': 13, '_step_count': 14, '_get_lr_called_within_step': False, '_last_lr': [4.6860474023534335e-05]}\n",
      "Epoch 14/25, Batch 0/696, Loss: 0.0059479777701199055\n",
      "Epoch 14/25, Batch 348/696, Loss: 0.005235697142779827\n",
      "Scheduler: {'T_max': 25, 'eta_min': 0.0, 'base_lrs': [0.0001], 'last_epoch': 14, '_step_count': 15, '_get_lr_called_within_step': False, '_last_lr': [4.0630934270713774e-05]}\n",
      "Epoch 15/25, Batch 0/696, Loss: 0.00563290948048234\n",
      "Epoch 15/25, Batch 348/696, Loss: 0.005712813697755337\n",
      "Scheduler: {'T_max': 25, 'eta_min': 0.0, 'base_lrs': [0.0001], 'last_epoch': 15, '_step_count': 16, '_get_lr_called_within_step': False, '_last_lr': [3.454915028125265e-05]}\n",
      "Epoch 16/25, Batch 0/696, Loss: 0.005277955438941717\n",
      "Epoch 16/25, Batch 348/696, Loss: 0.005046532955020666\n",
      "Scheduler: {'T_max': 25, 'eta_min': 0.0, 'base_lrs': [0.0001], 'last_epoch': 16, '_step_count': 17, '_get_lr_called_within_step': False, '_last_lr': [2.871103542174637e-05]}\n",
      "Epoch 17/25, Batch 0/696, Loss: 0.005110341589897871\n",
      "Epoch 17/25, Batch 348/696, Loss: 0.005594070069491863\n",
      "Scheduler: {'T_max': 25, 'eta_min': 0.0, 'base_lrs': [0.0001], 'last_epoch': 17, '_step_count': 18, '_get_lr_called_within_step': False, '_last_lr': [2.3208660251050158e-05]}\n",
      "Epoch 18/25, Batch 0/696, Loss: 0.005192591343075037\n",
      "Epoch 18/25, Batch 348/696, Loss: 0.005276438780128956\n",
      "Scheduler: {'T_max': 25, 'eta_min': 0.0, 'base_lrs': [0.0001], 'last_epoch': 18, '_step_count': 19, '_get_lr_called_within_step': False, '_last_lr': [1.8128800512565513e-05]}\n",
      "Epoch 19/25, Batch 0/696, Loss: 0.005214015021920204\n",
      "Epoch 19/25, Batch 348/696, Loss: 0.005762409884482622\n",
      "Scheduler: {'T_max': 25, 'eta_min': 0.0, 'base_lrs': [0.0001], 'last_epoch': 19, '_step_count': 20, '_get_lr_called_within_step': False, '_last_lr': [1.3551568628929434e-05]}\n",
      "Epoch 20/25, Batch 0/696, Loss: 0.005873821675777435\n",
      "Epoch 20/25, Batch 348/696, Loss: 0.005407918244600296\n",
      "Scheduler: {'T_max': 25, 'eta_min': 0.0, 'base_lrs': [0.0001], 'last_epoch': 20, '_step_count': 21, '_get_lr_called_within_step': False, '_last_lr': [9.549150281252635e-06]}\n",
      "Epoch 21/25, Batch 0/696, Loss: 0.005127141252160072\n",
      "Epoch 21/25, Batch 348/696, Loss: 0.005450360476970673\n",
      "Scheduler: {'T_max': 25, 'eta_min': 0.0, 'base_lrs': [0.0001], 'last_epoch': 21, '_step_count': 22, '_get_lr_called_within_step': False, '_last_lr': [6.184665997806822e-06]}\n",
      "Epoch 22/25, Batch 0/696, Loss: 0.004943457432091236\n",
      "Epoch 22/25, Batch 348/696, Loss: 0.005330234300345182\n",
      "Scheduler: {'T_max': 25, 'eta_min': 0.0, 'base_lrs': [0.0001], 'last_epoch': 22, '_step_count': 23, '_get_lr_called_within_step': False, '_last_lr': [3.5111757055874332e-06]}\n",
      "Epoch 23/25, Batch 0/696, Loss: 0.005331454332917929\n",
      "Epoch 23/25, Batch 348/696, Loss: 0.00548712769523263\n",
      "Scheduler: {'T_max': 25, 'eta_min': 0.0, 'base_lrs': [0.0001], 'last_epoch': 23, '_step_count': 24, '_get_lr_called_within_step': False, '_last_lr': [1.570841943568452e-06]}\n",
      "Epoch 24/25, Batch 0/696, Loss: 0.005275314208120108\n",
      "Epoch 24/25, Batch 348/696, Loss: 0.0056753456592559814\n",
      "Scheduler: {'T_max': 25, 'eta_min': 0.0, 'base_lrs': [0.0001], 'last_epoch': 24, '_step_count': 25, '_get_lr_called_within_step': False, '_last_lr': [3.942649342761118e-07]}\n",
      "Epoch 25/25, Batch 0/696, Loss: 0.005076661705970764\n",
      "Epoch 25/25, Batch 348/696, Loss: 0.005572739988565445\n",
      "Scheduler: {'T_max': 25, 'eta_min': 0.0, 'base_lrs': [0.0001], 'last_epoch': 25, '_step_count': 26, '_get_lr_called_within_step': False, '_last_lr': [0.0]}\n"
     ]
    },
    {
     "name": "stderr",
     "output_type": "stream",
     "text": [
      "100%|██████████| 116/116 [00:39<00:00,  7.63it/s]"
     ]
    }
   ],
   "source": [
    "print(f\"Training for {num_epochs} epochs started.\")\n",
    "\n",
    "for epoch in range(num_epochs):\n",
    "    model.train()\n",
    "    for batch_idx, (data, targets, _) in enumerate(train_loader):\n",
    "\n",
    "        data = data.to(device)\n",
    "        targets = targets.to(device)\n",
    "\n",
    "        optimizer.zero_grad()\n",
    "        outputs = model(data)\n",
    "\n",
    "        pos_weight = targets*positive_weigh_factor  # All positive weights are equal to 10\n",
    "        criterion = torch.nn.BCEWithLogitsLoss(pos_weight=pos_weight)\n",
    "        loss = criterion(outputs, targets)\n",
    "\n",
    "        loss.backward()\n",
    "        optimizer.step()\n",
    "\n",
    "        if batch_idx % 348 == 0:\n",
    "            print(f\"Epoch {epoch+1}/{num_epochs}, Batch {batch_idx}/{len(train_loader)}, Loss: {loss.item()}\")\n",
    "\n",
    "    scheduler.step()\n",
    "    print(\"Scheduler:\",scheduler.state_dict())\n",
    "\n",
    "# Save the trained model\n",
    "model.eval()\n",
    "torch.save(model.state_dict(), \"resnet18-eurosat.pth\")"
   ]
  },
  {
   "cell_type": "markdown",
   "id": "994c12d7",
   "metadata": {
    "papermill": {
     "duration": 0.013546,
     "end_time": "2025-04-12T04:14:09.944423",
     "exception": false,
     "start_time": "2025-04-12T04:14:09.930877",
     "status": "completed"
    },
    "tags": []
   },
   "source": [
    "## Test Loop\n",
    "\n",
    "Again, nothing special, just a standard inference."
   ]
  },
  {
   "cell_type": "code",
   "execution_count": 10,
   "id": "65a38793",
   "metadata": {
    "collapsed": false,
    "execution": {
     "iopub.execute_input": "2025-04-12T04:14:09.972328Z",
     "iopub.status.busy": "2025-04-12T04:14:09.971988Z",
     "iopub.status.idle": "2025-04-12T04:18:21.383060Z",
     "shell.execute_reply": "2025-04-12T04:18:21.381992Z"
    },
    "jupyter": {
     "outputs_hidden": false
    },
    "papermill": {
     "duration": 251.427356,
     "end_time": "2025-04-12T04:18:21.384873",
     "exception": false,
     "start_time": "2025-04-12T04:14:09.957517",
     "status": "completed"
    },
    "tags": []
   },
   "outputs": [
    {
     "name": "stderr",
     "output_type": "stream",
     "text": [
      "100%|██████████| 116/116 [01:04<00:00,  1.80it/s]\n"
     ]
    }
   ],
   "source": [
    "with torch.no_grad():\n",
    "    all_predictions = []\n",
    "    surveys = []\n",
    "    top_k_indices = None\n",
    "    for data, surveyID in tqdm.tqdm(test_loader, total=len(test_loader)):\n",
    "\n",
    "        data = data.to(device)\n",
    "        \n",
    "        outputs = model(data)\n",
    "        predictions = torch.sigmoid(outputs).cpu().numpy()\n",
    "\n",
    "        # Sellect top-25 values as predictions\n",
    "        top_25 = np.argsort(-predictions, axis=1)[:, :25] \n",
    "        if top_k_indices is None:\n",
    "            top_k_indices = top_25\n",
    "        else:\n",
    "            top_k_indices = np.concatenate((top_k_indices, top_25), axis=0)\n",
    "\n",
    "        surveys.extend(surveyID.cpu().numpy())"
   ]
  },
  {
   "cell_type": "markdown",
   "id": "67773ed5",
   "metadata": {
    "papermill": {
     "duration": 0.026488,
     "end_time": "2025-04-12T04:18:21.438850",
     "exception": false,
     "start_time": "2025-04-12T04:18:21.412362",
     "status": "completed"
    },
    "tags": []
   },
   "source": [
    "## Save prediction file! 🎉🥳🙌🤗"
   ]
  },
  {
   "cell_type": "code",
   "execution_count": 11,
   "id": "50ff556b",
   "metadata": {
    "execution": {
     "iopub.execute_input": "2025-04-12T04:18:21.495048Z",
     "iopub.status.busy": "2025-04-12T04:18:21.494708Z",
     "iopub.status.idle": "2025-04-12T04:18:21.673108Z",
     "shell.execute_reply": "2025-04-12T04:18:21.672421Z"
    },
    "papermill": {
     "duration": 0.209123,
     "end_time": "2025-04-12T04:18:21.675144",
     "exception": false,
     "start_time": "2025-04-12T04:18:21.466021",
     "status": "completed"
    },
    "tags": []
   },
   "outputs": [],
   "source": [
    "data_concatenated = [' '.join(map(str, row)) for row in top_k_indices]\n",
    "\n",
    "pd.DataFrame(\n",
    "    {'surveyId': surveys,\n",
    "     'predictions': data_concatenated,\n",
    "    }).to_csv(\"submission.csv\", index = False)"
   ]
  }
 ],
 "metadata": {
  "kaggle": {
   "accelerator": "gpu",
   "dataSources": [
    {
     "databundleVersionId": 11565823,
     "sourceId": 91196,
     "sourceType": "competition"
    }
   ],
   "dockerImageVersionId": 30699,
   "isGpuEnabled": true,
   "isInternetEnabled": true,
   "language": "python",
   "sourceType": "notebook"
  },
  "kernelspec": {
   "display_name": ".venv",
   "language": "python",
   "name": "python3"
  },
  "language_info": {
   "codemirror_mode": {
    "name": "ipython",
    "version": 3
   },
   "file_extension": ".py",
   "mimetype": "text/x-python",
   "name": "python",
   "nbconvert_exporter": "python",
   "pygments_lexer": "ipython3",
   "version": "3.13.2"
  },
  "papermill": {
   "default_parameters": {},
   "duration": 35265.370426,
   "end_time": "2025-04-12T04:18:24.491981",
   "environment_variables": {},
   "exception": null,
   "input_path": "__notebook__.ipynb",
   "output_path": "__notebook__.ipynb",
   "parameters": {},
   "start_time": "2025-04-11T18:30:39.121555",
   "version": "2.5.0"
  }
 },
 "nbformat": 4,
 "nbformat_minor": 5
}
